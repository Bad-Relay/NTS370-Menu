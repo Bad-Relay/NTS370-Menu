{
 "cells": [
  {
   "cell_type": "markdown",
   "metadata": {},
   "source": [
    "Hello NTS70! We are going over menus in python and other tasks you can do for final projects."
   ]
  },
  {
   "cell_type": "markdown",
   "metadata": {},
   "source": [
    "<b>Example</b>\n",
    "\n",
    "The first part is going to be setting up a menu whith an input. To start let's do a brief recap of how to take inputs in python. The code below will take a input from the user and display it in the terminal. (Press shift enter or the run button on the top to run the code)"
   ]
  },
  {
   "cell_type": "code",
   "execution_count": null,
   "metadata": {},
   "outputs": [],
   "source": [
    "user_in = input(\"Enter input here\\n\")\n",
    "\n",
    "print(user_in)"
   ]
  },
  {
   "cell_type": "markdown",
   "metadata": {},
   "source": [
    "<b>Exercise</b>\n",
    "\n",
    "Now we are going to a quick exercise. \n",
    " + You are going to write a program that will take a number and add it by 1. \n",
    "\n",
    "Extra: \n",
    " + Also include error checking. \n",
    " \n",
    "Type your code in the box below. \n",
    "\n",
    "\n",
    "\n",
    "<details>\n",
    "  <summary><b>Hint 1. Click here</b></summary>\n",
    "  By default python will take the input as a string (a word not a number). So you will need to turn the word \"1\" into 1. You can do this with the INT function. \n",
    "</details>\n",
    "\n",
    "<details>\n",
    "  <summary><b>Hint 2. Click here</b></summary>\n",
    "  To use the a function in python you will take the function name and some parenthesis. Inside the parenthesis you put then you would but in what you would like to change to a int. Using the example above you if you wanted to turn user_in into a number you would do: INT(user_in)\n",
    "</details>"
   ]
  },
  {
   "cell_type": "code",
   "execution_count": null,
   "metadata": {},
   "outputs": [],
   "source": [
    "# Enter solution  here"
   ]
  },
  {
   "cell_type": "markdown",
   "metadata": {},
   "source": [
    "<b>Example</b>\n",
    "\n",
    "Now that we refreshed on doing inputs. Let's put this into practice for a simple text menu script that can be used on the final. The code below will print One Function if the user types in 1 and Two Function if the user types in 2. The display \" #) \" tells what user number to put in to get the desired function.  "
   ]
  },
  {
   "cell_type": "code",
   "execution_count": null,
   "metadata": {},
   "outputs": [],
   "source": [
    "menu = input(\"1) Do one function 2) do secound function 3) last function\\n\")\n",
    "\n",
    "if menu == \"1\": \n",
    "    print(\"One function\\n\")\n",
    "    # Here you could but something like \"bash project1_3.sh\". To run a shell script called  project1_3\n",
    "elif menu == \"2\":\n",
    "    print(\"Two function\\n\")\n",
    "    # Here you could but something like \"perl search.pl\" if you wanted to run a perl script\n"
   ]
  },
  {
   "cell_type": "markdown",
   "metadata": {},
   "source": [
    "<b>Exercise</b>\n",
    "\n",
    "Another exercise this time you will complate the code above by:\n",
    "+ Adding an else if statement on if the user press 3 for the input \n",
    "+ Adding a else statment telling the user that it needs to input a number 1 to 3 \n",
    "\n",
    "Extra: \n",
    "+ Adding color to the words \"one function\", \"two function\" and \"last function\"\n",
    "+ having the output be center\n",
    "\n",
    "<details>\n",
    "  <summary><b>Hint 1. Click here</b></summary>\n",
    "  You are going to want to use the same code for meenu = 2 but change the if else satment to equal 3 instead of 2. \n",
    "</details>\n",
    "\n",
    "<details>\n",
    "  <summary><b>Hint 2. Click here</b></summary>\n",
    "  The secound part can be done with using a else statment that does not need any coditions. Example:  \n",
    "    else:\n",
    "        print()\n",
    "</details>"
   ]
  },
  {
   "cell_type": "code",
   "execution_count": null,
   "metadata": {},
   "outputs": [],
   "source": [
    "# Enter solution  here"
   ]
  },
  {
   "cell_type": "markdown",
   "metadata": {},
   "source": [
    "<b>Example</b>\n",
    "\n",
    "We will wrap this notebook with going over a useful libary called \"vaildators\" which can tell you if a string is a ip address, webiste or email. To install this on your local computer you can use the command ** pip install validators ** . It will be install already on this notebook. Let's start will a example on if a string is an ip adress:"
   ]
  },
  {
   "cell_type": "code",
   "execution_count": null,
   "metadata": {},
   "outputs": [],
   "source": [
    "import validators\n",
    "ip4 = \"123.0.0.7\" # Feel free to change this affter running to see the result if a faild attempt \n",
    "validators.ipv4(ip4) # will print True if a ip address"
   ]
  },
  {
   "cell_type": "markdown",
   "metadata": {},
   "source": [
    "<b>Example</b>\n",
    "\n",
    "Now let's do one with a url. Which would be perfect for a web scraper error checking making sure that the user put in a website. \n"
   ]
  },
  {
   "cell_type": "code",
   "execution_count": 39,
   "metadata": {},
   "outputs": [],
   "source": [
    
    "website = \"http://google.com\" # prints True \n",
    "result = validators.url(website)\n",
    "print(\"The result of website is \", result)"
   ]
  },
  {
   "cell_type": "markdown",
   "metadata": {},
   "source": [
    "<b>Exercise</b>\n",
    "\n",
    "The last exercise will be taking the code above and adding a if statment to it:\n",
    "+ If the string is a website print the word \"Success\"\n",
    "+ If it is not a website print the word \"Fail\"\n",
    "\n",
    "Extra: \n",
    "+ Have the website variable be defined by user input\n",
    "+ Have fail text be bold and red\n",
    "\n",
    "<details>\n",
    "  <summary><b>Hint 1. Click here</b></summary>\n",
    "  If the string is a website it will return a bool call True. So make a if statment that will run if result equals True   \n",
    "</details>\n",
    "\n",
    "<details>\n",
    "  <summary><b>Hint 2. Click here</b></summary>\n",
    "   The if statment will be \"if result == True:\". To do the secound part add a else statement that will print fail.\n",
    "</details>"
   ]
  },
  {
   "cell_type": "code",
   "execution_count": 38,
   "metadata": {},
   "outputs": [],
   "source": [
    
    "website = \"http://google.com\" # prints True \n",
    "result = validators.url(website)\n",
    "# Enter the if statment here"
   ]
  }
 ],
 "metadata": {
  "kernelspec": {
   "display_name": "Python 3",
   "language": "python",
   "name": "python3"
  },
  "language_info": {
   "codemirror_mode": {
    "name": "ipython",
    "version": 3
   },
   "file_extension": ".py",
   "mimetype": "text/x-python",
   "name": "python",
   "nbconvert_exporter": "python",
   "pygments_lexer": "ipython3",
   "version": "3.8.5"
  }
 },
 "nbformat": 4,
 "nbformat_minor": 4
}
